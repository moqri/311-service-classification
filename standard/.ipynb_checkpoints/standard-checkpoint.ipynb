{
 "cells": [
  {
   "cell_type": "code",
   "execution_count": 4,
   "metadata": {
    "collapsed": false
   },
   "outputs": [],
   "source": [
    "import pandas as pd\n",
    "import collections\n",
    "from __future__ import division\n",
    "import re\n",
    "from collections import Counter\n",
    "pd.options.display.max_rows = 999\n"
   ]
  },
  {
   "cell_type": "code",
   "execution_count": 5,
   "metadata": {
    "collapsed": false
   },
   "outputs": [],
   "source": [
    "def dist(data,service_type):\n",
    "    df=pd.read_csv(data)\n",
    "    df[service_type]=df[service_type].str.replace('\"','')\n",
    "    dg=df[service_type].groupby(df[service_type]).count()\n",
    "    dist=dg.sort_values(ascending=False)\n",
    "    return dist,df"
   ]
  },
  {
   "cell_type": "code",
   "execution_count": 6,
   "metadata": {
    "collapsed": true
   },
   "outputs": [],
   "source": [
    "data_dic={'Boston':{'data':'../data/boston/311__Service_Requests.csv','service':'CASE_TITLE'},\n",
    "    'Cinciniti':{'data':'../data/cincinnati/Cincinnati_311__Non-Emergency__Service_Requests.csv','service':'SERVICE_NAME'}}"
   ]
  },
  {
   "cell_type": "code",
   "execution_count": 40,
   "metadata": {
    "collapsed": false
   },
   "outputs": [
    {
     "name": "stdout",
     "output_type": "stream",
     "text": [
      "Cinciniti 555811 0.933583538289\n",
      "Philadelphia 1659364 1.0\n",
      "Louisville 102039 0.977283195641\n",
      "San Francisco 2657709 0.939971607125\n",
      "Washington DC 771239 1.0\n",
      "NYC 1329000 0.983217456734\n",
      "Los_anglese 955815 1.0\n",
      "Kansas city (MO) 1110841 1.0\n",
      "Pittsburgh 185136 0.923294226947\n",
      "Boston 1027469 0.889036068241\n",
      "San Diego 161763 1.0\n",
      "New Orleans 244338 1.0\n"
     ]
    }
   ],
   "source": [
    "data_dic={'Boston':{'data':'../data/boston/311__Service_Requests.csv','service':'CASE_TITLE'},\n",
    "    'Cinciniti':{'data':'../data/cincinnati/Cincinnati_311__Non-Emergency__Service_Requests.csv','service':'SERVICE_NAME'},\n",
    "    'Kansas city (MO)':{'data':'../data/kansas/311_Call_Center_Service_Requests.csv','service':'CATEGORY'},\n",
    "    'Los_anglese':{'data':'../data/los_angeles/MyLA311_Service_Request_Data_2017.csv','service':'RequestType'},\n",
    "    'Louisville':{'data':'../data/louisvile/citizen311data_2016_0.csv','service':'service_name'},\n",
    "    'New Orleans':{'data':'../data/new_orleans/311_Calls__2012-Present_.csv','service':'issue_type'},\n",
    "    'NYC':{'data':'../data/nyc/nyc17.csv','service':'Complaint Type'},\n",
    "    'Philadelphia':{'data':'../data/philadelphia/public_cases_fc.csv','service':'service_name'},\n",
    "    'Pittsburgh':{'data':'../data/pittsburgh/40776043-ad00-40f5-9dc8-1fde865ff571.csv','service':'REQUEST_TYPE'},\n",
    "    'San Diego':{'data':'../data/san_diego/get_it_done_311_requests_datasd.csv','service':'service_name'},\n",
    "    'San Francisco':{'data':'../data/san_francisco/311_Cases.csv','service':'Request Type'},\n",
    "    'Washington DC':{'data':'../data/washington_dc/Cityworks_Service_Requests.csv','service':'DESCRIPTION'}\n",
    "     }\n",
    "for city, value in data_dic.iteritems():\n",
    "    data=value['data']\n",
    "    service_type=value['service']\n",
    "    dist_df,df=dist(data,service_type)\n",
    "    data_dic[city]['top_service']=dist_df[0:100].index\n",
    "    #.plot(kind='bar',figsize=(15,5))\n",
    "    print city,\n",
    "    print dist_df.values.sum(),\n",
    "    print dist_df[0:100].values.sum()/dist_df.values.sum()"
   ]
  },
  {
   "cell_type": "code",
   "execution_count": 41,
   "metadata": {
    "collapsed": false
   },
   "outputs": [],
   "source": [
    "ll=[]\n",
    "for city, value in data_dic.iteritems():\n",
    "    ll.append(value['top_service'].values)"
   ]
  },
  {
   "cell_type": "code",
   "execution_count": 79,
   "metadata": {
    "collapsed": false,
    "scrolled": true
   },
   "outputs": [],
   "source": [
    "top_df=pd.DataFrame(ll).transpose()\n",
    "top_df.columns=data_dic.keys()\n",
    "top_df.fillna('',inplace=True)\n",
    "top_df[0:100].to_html('top_services.html')"
   ]
  },
  {
   "cell_type": "code",
   "execution_count": 43,
   "metadata": {
    "collapsed": true
   },
   "outputs": [],
   "source": [
    "top_df.to_csv('top_service.csv',index=False)"
   ]
  },
  {
   "cell_type": "code",
   "execution_count": 44,
   "metadata": {
    "collapsed": false
   },
   "outputs": [],
   "source": [
    "l=[j for i in top_df.values for j in i]\n",
    "l=filter(None, l)"
   ]
  },
  {
   "cell_type": "code",
   "execution_count": 45,
   "metadata": {
    "collapsed": false
   },
   "outputs": [],
   "source": [
    "my_string = ' '.join(l)\n",
    "words = re.findall(r'\\w+', my_string) "
   ]
  },
  {
   "cell_type": "code",
   "execution_count": 46,
   "metadata": {
    "collapsed": true
   },
   "outputs": [],
   "source": [
    "stop_words=['REPAIR','REQUEST','MAINTENANCE','NEW','COMPLAINT','RESIDENTIAL','OR','PROPERTY','OTHER','MISSED','ON','FOR'\n",
    "            ,'ILLEGAL','ISSUE','CONDITION','MISSING','AND','GALLON','OUT','A','CONDITIONS','NO','SAFETY','PROP']"
   ]
  },
  {
   "cell_type": "code",
   "execution_count": 47,
   "metadata": {
    "collapsed": false
   },
   "outputs": [],
   "source": [
    "cap_words = [word.upper() for word in words] \n",
    "filtered_words=[word for word in cap_words if word not in stop_words]\n",
    "word_counts = Counter(filtered_words)"
   ]
  },
  {
   "cell_type": "code",
   "execution_count": 48,
   "metadata": {
    "collapsed": false
   },
   "outputs": [
    {
     "name": "stdout",
     "output_type": "stream",
     "text": [
      "['STREET', 'TRASH', 'SIGN', 'GRAFFITI', 'TREE', 'CART', 'TRAFFIC', 'RECYCLING', 'SIDEWALK', 'BUILDING', 'VEHICLE', 'ANIMAL', 'WATER', 'SIGNAL', 'PARKING', 'LIGHT', 'ABANDONED', 'MUNI', 'DISTRICT', 'PARK', 'REMOVAL', 'WASTE', 'DEAD', 'CURB', 'NOISE', 'CITY', 'DUMPING', 'GENERAL', 'POTHOLE', 'UTILITY', 'WEEDS', 'CLEANING', 'VACANT', 'PUBLIC', 'MARKING', 'SNOW', 'PICKUP', 'LITTER', 'PERMIT', 'YARD', 'COMMERCIAL', 'TREES', 'SERVICE', 'GRASS', 'VAP', 'DOF', 'HEAT', 'COLLECTION', 'PEDESTRIAN', 'PLUMBING']\n"
     ]
    }
   ],
   "source": [
    "print [w[0] for w in word_counts.most_common(50)]"
   ]
  },
  {
   "cell_type": "markdown",
   "metadata": {},
   "source": [
    "#### Extrracted tags:\n",
    "* street \n",
    "* light\n",
    "* traffic \n",
    "* sidewalk\n",
    "* vehicle\n",
    "* graffiti \n",
    "* tree \n",
    "* grass\n",
    "* park\n",
    "* trash\n",
    "* recycle \n",
    "* building\n",
    "* district\n",
    "* animal \n",
    "* water \n",
    "* noise\n",
    "* miscellaneous"
   ]
  }
 ],
 "metadata": {
  "anaconda-cloud": {},
  "kernelspec": {
   "display_name": "Python [Root]",
   "language": "python",
   "name": "Python [Root]"
  },
  "language_info": {
   "codemirror_mode": {
    "name": "ipython",
    "version": 2
   },
   "file_extension": ".py",
   "mimetype": "text/x-python",
   "name": "python",
   "nbconvert_exporter": "python",
   "pygments_lexer": "ipython2",
   "version": "2.7.12"
  }
 },
 "nbformat": 4,
 "nbformat_minor": 0
}
